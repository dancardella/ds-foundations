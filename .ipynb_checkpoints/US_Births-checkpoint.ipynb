{
 "cells": [
  {
   "cell_type": "markdown",
   "metadata": {},
   "source": [
    "\n",
    "Assignment\n",
    "Open the CSV and split based on new lines\n",
    "Preview the first 10 entries"
   ]
  },
  {
   "cell_type": "code",
   "execution_count": 128,
   "metadata": {
    "collapsed": false
   },
   "outputs": [
    {
     "name": "stdout",
     "output_type": "stream",
     "text": [
      "['year,month,date_of_month,day_of_week,births']\n"
     ]
    },
    {
     "data": {
      "text/plain": [
       "[['1994,1,1,6,8096'],\n",
       " ['1994,1,2,7,7772'],\n",
       " ['1994,1,3,1,10142'],\n",
       " ['1994,1,4,2,11248'],\n",
       " ['1994,1,5,3,11053'],\n",
       " ['1994,1,6,4,11406'],\n",
       " ['1994,1,7,5,11251'],\n",
       " ['1994,1,8,6,8653'],\n",
       " ['1994,1,9,7,7910'],\n",
       " ['1994,1,10,1,10498']]"
      ]
     },
     "execution_count": 128,
     "metadata": {},
     "output_type": "execute_result"
    }
   ],
   "source": [
    "import csv\n",
    "f = open(\"US_Births.csv\") \n",
    "\n",
    "# Don't necessarily need this subclass however keeping it here for future reference\n",
    "class my_dialect(csv.Dialect):\n",
    "    delimiter = ',' \n",
    "    quotechar = '\"'\n",
    "    lineterminator = '\\ n' \n",
    "    quoting = csv.QUOTE_NONNUMERIC\n",
    "\n",
    "reader = csv.reader(f, dialect = my_dialect)\n",
    "\n",
    "lines = list(csv.reader(open(\"US_Births.csv\")))\n",
    "header, values = lines[0], lines[1:]\n",
    "\n",
    "print(header)\n",
    "values[:][:10]"
   ]
  },
  {
   "cell_type": "markdown",
   "metadata": {},
   "source": [
    "Assignment¶\n",
    "Create a function that takes in a CSV and converts the data into a list of lists\n",
    "Each row will be a list\n",
    "Make sure to convert the values to int\n",
    "Return the final list of lists\n",
    "Preview the first 10 entries of the output"
   ]
  },
  {
   "cell_type": "code",
   "execution_count": 150,
   "metadata": {
    "collapsed": false
   },
   "outputs": [
    {
     "data": {
      "text/plain": [
       "[[1994, 1, 1, 6, 8096],\n",
       " [1994, 1, 2, 7, 7772],\n",
       " [1994, 1, 3, 1, 10142],\n",
       " [1994, 1, 4, 2, 11248],\n",
       " [1994, 1, 5, 3, 11053],\n",
       " [1994, 1, 6, 4, 11406],\n",
       " [1994, 1, 7, 5, 11251],\n",
       " [1994, 1, 8, 6, 8653],\n",
       " [1994, 1, 9, 7, 7910],\n",
       " [1994, 1, 10, 1, 10498]]"
      ]
     },
     "execution_count": 150,
     "metadata": {},
     "output_type": "execute_result"
    }
   ],
   "source": [
    "# Testing integer conversion code\n",
    "list_bucket = []\n",
    "for list_item in values[:]:\n",
    "    temp_value = list_item[:1][0]\n",
    "    temp_value_list= temp_value.split(\",\")\n",
    "    int_value_list =  [int(val) for val in (temp_value_list)]\n",
    "    list_bucket.append(int_value_list)\n",
    "list_bucket[0:10]  "
   ]
  },
  {
   "cell_type": "code",
   "execution_count": 153,
   "metadata": {
    "collapsed": false
   },
   "outputs": [],
   "source": [
    "def gimmie_that_csv(f):\n",
    "\n",
    "    lines = list(csv.reader(open(f)))\n",
    "    header, values = lines[0], lines[1:]\n",
    "\n",
    "    list_bucket = []\n",
    "    for list_item in values[:]:\n",
    "        temp_value = list_item[:1][0]\n",
    "        temp_value_list= temp_value.split(\",\")\n",
    "        int_value_list = [int(val) for val in (temp_value_list)]\n",
    "        list_bucket.append(int_value_list)\n",
    "    return(list_bucket)      "
   ]
  },
  {
   "cell_type": "code",
   "execution_count": 230,
   "metadata": {
    "collapsed": false
   },
   "outputs": [
    {
     "name": "stdout",
     "output_type": "stream",
     "text": [
      "[['year,month,date_of_month,day_of_week,births']]\n"
     ]
    },
    {
     "data": {
      "text/plain": [
       "[[1994, 1, 1, 6, 8096],\n",
       " [1994, 1, 2, 7, 7772],\n",
       " [1994, 1, 3, 1, 10142],\n",
       " [1994, 1, 4, 2, 11248],\n",
       " [1994, 1, 5, 3, 11053],\n",
       " [1994, 1, 6, 4, 11406],\n",
       " [1994, 1, 7, 5, 11251],\n",
       " [1994, 1, 8, 6, 8653],\n",
       " [1994, 1, 9, 7, 7910],\n",
       " [1994, 1, 10, 1, 10498]]"
      ]
     },
     "execution_count": 230,
     "metadata": {},
     "output_type": "execute_result"
    }
   ],
   "source": [
    "birth_bucket = gimmie_that_csv(\"US_Births.csv\")\n",
    "print(header)\n",
    "birth_bucket[0:10]"
   ]
  },
  {
   "cell_type": "markdown",
   "metadata": {},
   "source": [
    "Assignment\n",
    "Create a function that calculates the number of births each month\n",
    "The function input should be the previous list of lists you created\n",
    "Use a dictionary and increment the values associated with each month key\n",
    "Return the final dictionary\n",
    "Preview the output"
   ]
  },
  {
   "cell_type": "code",
   "execution_count": 217,
   "metadata": {
    "collapsed": false
   },
   "outputs": [],
   "source": [
    "def we_gonna_pawty_like_itsya_birtday(f):\n",
    "    data_dict = {}\n",
    "    for entry in f[0:]:\n",
    "        h, v = entry[1], entry[4]    \n",
    "        try: \n",
    "              data_dict[h] = data_dict[h] + v\n",
    "        except:\n",
    "                data_dict[h] = v\n",
    "    return(data_dict)            "
   ]
  },
  {
   "cell_type": "code",
   "execution_count": 218,
   "metadata": {
    "collapsed": false
   },
   "outputs": [
    {
     "data": {
      "text/plain": [
       "{1: 3232517,\n",
       " 2: 3018140,\n",
       " 3: 3322069,\n",
       " 4: 3185314,\n",
       " 5: 3350907,\n",
       " 6: 3296530,\n",
       " 7: 3498783,\n",
       " 8: 3525858,\n",
       " 9: 3439698,\n",
       " 10: 3378814,\n",
       " 11: 3171647,\n",
       " 12: 3301860}"
      ]
     },
     "execution_count": 218,
     "metadata": {},
     "output_type": "execute_result"
    }
   ],
   "source": [
    "birthday_by_month = we_gonna_pawty_like_itsya_birtday(birth_bucket)\n",
    "birthday_by_month"
   ]
  },
  {
   "cell_type": "code",
   "execution_count": 159,
   "metadata": {
    "collapsed": false
   },
   "outputs": [
    {
     "data": {
      "text/plain": [
       "month\n",
       "1     3232517\n",
       "2     3018140\n",
       "3     3322069\n",
       "4     3185314\n",
       "5     3350907\n",
       "6     3296530\n",
       "7     3498783\n",
       "8     3525858\n",
       "9     3439698\n",
       "10    3378814\n",
       "11    3171647\n",
       "12    3301860\n",
       "Name: births, dtype: int64"
      ]
     },
     "execution_count": 159,
     "metadata": {},
     "output_type": "execute_result"
    }
   ],
   "source": [
    "# AND CHECKING WITH PANDAS' .GROUPBY FUNCTION ...FUN :)\n",
    "births = pd.read_csv(\"https://raw.githubusercontent.com/k2datascience/ds-foundations/master/code/us_births.csv\", sep = \",\")\n",
    "births.groupby('month')['births'].sum()"
   ]
  },
  {
   "cell_type": "markdown",
   "metadata": {},
   "source": [
    "Assignment\n",
    "Create a function that calculates the number of births each day of the week"
   ]
  },
  {
   "cell_type": "code",
   "execution_count": 220,
   "metadata": {
    "collapsed": true
   },
   "outputs": [],
   "source": [
    "def day_of_week_count(f):\n",
    "    data_dict = {}\n",
    "    for entry in f[0:]:\n",
    "        h, v = entry[3], entry[4]    \n",
    "        try: \n",
    "              data_dict[h] = data_dict[h] + v\n",
    "        except:\n",
    "                data_dict[h] = v\n",
    "    return(data_dict) "
   ]
  },
  {
   "cell_type": "code",
   "execution_count": 221,
   "metadata": {
    "collapsed": false
   },
   "outputs": [
    {
     "data": {
      "text/plain": [
       "{1: 5789166,\n",
       " 2: 6446196,\n",
       " 3: 6322855,\n",
       " 4: 6288429,\n",
       " 5: 6233657,\n",
       " 6: 4562111,\n",
       " 7: 4079723}"
      ]
     },
     "execution_count": 221,
     "metadata": {},
     "output_type": "execute_result"
    }
   ],
   "source": [
    "birthday_by_day_of_week= day_of_week_count(birth_bucket)\n",
    "birthday_by_day_of_week"
   ]
  },
  {
   "cell_type": "markdown",
   "metadata": {},
   "source": [
    "Assignment¶\n",
    "Create a general function that takes the data list of lists and a column index, it should return a dictionary mapping of the unique keys and summed values"
   ]
  },
  {
   "cell_type": "code",
   "execution_count": 222,
   "metadata": {
    "collapsed": true
   },
   "outputs": [],
   "source": [
    "def general_count(f, col_index):\n",
    "    data_dict = {}\n",
    "    for entry in f[0:]:\n",
    "        h, v = entry[col_index], entry[4]    \n",
    "        try: \n",
    "              data_dict[h] = data_dict[h] + v\n",
    "        except:\n",
    "                data_dict[h] = v\n",
    "    return(data_dict) "
   ]
  },
  {
   "cell_type": "code",
   "execution_count": 247,
   "metadata": {
    "collapsed": false
   },
   "outputs": [
    {
     "name": "stdout",
     "output_type": "stream",
     "text": [
      "{0: {2000: 4058814, 2001: 4025933, 2002: 4021726, 2003: 4089950, 1994: 3952767, 1995: 3899589, 1996: 3891494, 1997: 3880894, 1998: 3941553, 1999: 3959417}}\n",
      "{1: {1: 3232517, 2: 3018140, 3: 3322069, 4: 3185314, 5: 3350907, 6: 3296530, 7: 3498783, 8: 3525858, 9: 3439698, 10: 3378814, 11: 3171647, 12: 3301860}}\n",
      "{2: {1: 1276557, 2: 1288739, 3: 1304499, 4: 1288154, 5: 1299953, 6: 1304474, 7: 1310459, 8: 1312297, 9: 1303292, 10: 1320764, 11: 1314361, 12: 1318437, 13: 1277684, 14: 1320153, 15: 1319171, 16: 1315192, 17: 1324953, 18: 1326855, 19: 1318727, 20: 1324821, 21: 1322897, 22: 1317381, 23: 1293290, 24: 1288083, 25: 1272116, 26: 1284796, 27: 1294395, 28: 1307685, 29: 1223161, 30: 1202095, 31: 746696}}\n",
      "{3: {1: 5789166, 2: 6446196, 3: 6322855, 4: 6288429, 5: 6233657, 6: 4562111, 7: 4079723}}\n"
     ]
    }
   ],
   "source": [
    "def each_col_index():\n",
    "    for col_index in range(0,4):\n",
    "        global_dict = {}\n",
    "        sum_of_col_index= general_count(birth_bucket, col_index)\n",
    "        global_dict[col_index] = sum_of_col_index\n",
    "        print(global_dict)\n",
    "each_col_index()    "
   ]
  }
 ],
 "metadata": {
  "anaconda-cloud": {},
  "kernelspec": {
   "display_name": "Python [conda root]",
   "language": "python",
   "name": "conda-root-py"
  },
  "language_info": {
   "codemirror_mode": {
    "name": "ipython",
    "version": 3
   },
   "file_extension": ".py",
   "mimetype": "text/x-python",
   "name": "python",
   "nbconvert_exporter": "python",
   "pygments_lexer": "ipython3",
   "version": "3.5.2"
  }
 },
 "nbformat": 4,
 "nbformat_minor": 1
}
